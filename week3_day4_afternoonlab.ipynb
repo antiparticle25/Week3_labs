{
 "cells": [
  {
   "cell_type": "code",
   "execution_count": 1,
   "metadata": {},
   "outputs": [],
   "source": [
    "# Me and Jonty spent a lot of time understanding the question that was framed in the lab.\n",
    "\n",
    "# In the end we decided to change things a little bit: we are predicting here if a film is a fiction or non-fiction film based on a series of categories.\n",
    "\n",
    "# 1) Non-fiction films - Travel, Documentary, Sports\n",
    "# 2) Fiction - all the other categories\n",
    "\n",
    "# - the variables we selected to make such a predicted were: number of films rented, rental duration, rental rate, length and rating.\n",
    "\n",
    "# Since it was predictable that the number of non-fiction films would be a minority compared to fiction films,\n",
    "# we tried to address this unbalance as well."
   ]
  },
  {
   "cell_type": "markdown",
   "metadata": {},
   "source": [
    "# Importing the data from SQL by calling the query"
   ]
  },
  {
   "cell_type": "code",
   "execution_count": 2,
   "metadata": {},
   "outputs": [
    {
     "name": "stdout",
     "output_type": "stream",
     "text": [
      "········\n"
     ]
    }
   ],
   "source": [
    "import pymysql\n",
    "from sqlalchemy import create_engine\n",
    "import pandas as pd\n",
    "import getpass  # To get the password without showing the input\n",
    "password = getpass.getpass()\n",
    "import matplotlib.pyplot as plt\n",
    "import seaborn as sns\n",
    "%matplotlib inline"
   ]
  },
  {
   "cell_type": "code",
   "execution_count": 3,
   "metadata": {},
   "outputs": [],
   "source": [
    "## Import data into a dataframe\n",
    "\n",
    "connection_string = 'mysql+pymysql://root:' + password + '@localhost/sakila'\n",
    "engine = create_engine(connection_string)\n",
    "# data = pd.read_sql_query('SELECT * FROM loan', engine)\n",
    "# data.head()"
   ]
  },
  {
   "cell_type": "code",
   "execution_count": 4,
   "metadata": {},
   "outputs": [],
   "source": [
    "query = '''select f.name, fr.film_id, sum(fr.number_of_times_rented) as n_films_rented, fr.rental_duration, fr.rental_rate, fr.length, fr.rating\n",
    "from films_category_name fr\n",
    "join category f\n",
    "on fr.category_id = f.category_id\n",
    "group by film_id;'''\n",
    "\n",
    "\n",
    "\n",
    "data_new = pd.read_sql_query(query, engine)"
   ]
  },
  {
   "cell_type": "markdown",
   "metadata": {},
   "source": [
    "# Here we are just assigning fiction or non-fiction based on film category"
   ]
  },
  {
   "cell_type": "code",
   "execution_count": 5,
   "metadata": {},
   "outputs": [],
   "source": [
    "def cleanOperation(x):\n",
    "    x = x.lower()\n",
    "    if 'action' in x:\n",
    "        return \"fiction\"\n",
    "    elif 'animation' in x:\n",
    "        return 'fiction'\n",
    "    elif 'children' in x:\n",
    "        return 'fiction'\n",
    "    elif 'classics' in x:\n",
    "        return \"fiction\"\n",
    "    elif 'comedy' in x:\n",
    "        return 'fiction'\n",
    "    elif 'drama' in x:\n",
    "        return \"fiction\"\n",
    "    elif 'family' in x:\n",
    "        return 'fiction'\n",
    "    elif 'foreign' in x:\n",
    "        return 'fiction'\n",
    "    elif 'games' in x:\n",
    "        return \"fiction\"\n",
    "    elif 'horror' in x:\n",
    "        return 'fiction'\n",
    "    elif 'music' in x:\n",
    "        return 'fiction'\n",
    "    elif 'new' in x:\n",
    "        return \"fiction\"\n",
    "    elif 'sci-fi' in x:\n",
    "        return 'fiction'\n",
    "    else:\n",
    "        return 'non-fiction'"
   ]
  },
  {
   "cell_type": "code",
   "execution_count": 6,
   "metadata": {},
   "outputs": [],
   "source": [
    "data_new['fiction or non-fiction'] = list(map(cleanOperation, data_new['name']))"
   ]
  },
  {
   "cell_type": "code",
   "execution_count": 7,
   "metadata": {},
   "outputs": [
    {
     "data": {
      "text/html": [
       "<div>\n",
       "<style scoped>\n",
       "    .dataframe tbody tr th:only-of-type {\n",
       "        vertical-align: middle;\n",
       "    }\n",
       "\n",
       "    .dataframe tbody tr th {\n",
       "        vertical-align: top;\n",
       "    }\n",
       "\n",
       "    .dataframe thead th {\n",
       "        text-align: right;\n",
       "    }\n",
       "</style>\n",
       "<table border=\"1\" class=\"dataframe\">\n",
       "  <thead>\n",
       "    <tr style=\"text-align: right;\">\n",
       "      <th></th>\n",
       "      <th>name</th>\n",
       "      <th>film_id</th>\n",
       "      <th>n_films_rented</th>\n",
       "      <th>rental_duration</th>\n",
       "      <th>rental_rate</th>\n",
       "      <th>length</th>\n",
       "      <th>rating</th>\n",
       "      <th>fiction or non-fiction</th>\n",
       "    </tr>\n",
       "  </thead>\n",
       "  <tbody>\n",
       "    <tr>\n",
       "      <th>0</th>\n",
       "      <td>Action</td>\n",
       "      <td>19</td>\n",
       "      <td>20.0</td>\n",
       "      <td>6</td>\n",
       "      <td>0.99</td>\n",
       "      <td>113</td>\n",
       "      <td>PG</td>\n",
       "      <td>fiction</td>\n",
       "    </tr>\n",
       "    <tr>\n",
       "      <th>1</th>\n",
       "      <td>Action</td>\n",
       "      <td>21</td>\n",
       "      <td>21.0</td>\n",
       "      <td>3</td>\n",
       "      <td>4.99</td>\n",
       "      <td>129</td>\n",
       "      <td>R</td>\n",
       "      <td>fiction</td>\n",
       "    </tr>\n",
       "    <tr>\n",
       "      <th>2</th>\n",
       "      <td>Action</td>\n",
       "      <td>29</td>\n",
       "      <td>10.0</td>\n",
       "      <td>5</td>\n",
       "      <td>2.99</td>\n",
       "      <td>168</td>\n",
       "      <td>NC-17</td>\n",
       "      <td>fiction</td>\n",
       "    </tr>\n",
       "    <tr>\n",
       "      <th>3</th>\n",
       "      <td>Action</td>\n",
       "      <td>56</td>\n",
       "      <td>18.0</td>\n",
       "      <td>6</td>\n",
       "      <td>2.99</td>\n",
       "      <td>129</td>\n",
       "      <td>G</td>\n",
       "      <td>fiction</td>\n",
       "    </tr>\n",
       "    <tr>\n",
       "      <th>4</th>\n",
       "      <td>Action</td>\n",
       "      <td>67</td>\n",
       "      <td>20.0</td>\n",
       "      <td>5</td>\n",
       "      <td>2.99</td>\n",
       "      <td>77</td>\n",
       "      <td>PG-13</td>\n",
       "      <td>fiction</td>\n",
       "    </tr>\n",
       "  </tbody>\n",
       "</table>\n",
       "</div>"
      ],
      "text/plain": [
       "     name  film_id  n_films_rented  rental_duration  rental_rate  length  \\\n",
       "0  Action       19            20.0                6         0.99     113   \n",
       "1  Action       21            21.0                3         4.99     129   \n",
       "2  Action       29            10.0                5         2.99     168   \n",
       "3  Action       56            18.0                6         2.99     129   \n",
       "4  Action       67            20.0                5         2.99      77   \n",
       "\n",
       "  rating fiction or non-fiction  \n",
       "0     PG                fiction  \n",
       "1      R                fiction  \n",
       "2  NC-17                fiction  \n",
       "3      G                fiction  \n",
       "4  PG-13                fiction  "
      ]
     },
     "execution_count": 7,
     "metadata": {},
     "output_type": "execute_result"
    }
   ],
   "source": [
    "data_new.head()"
   ]
  },
  {
   "cell_type": "code",
   "execution_count": 8,
   "metadata": {},
   "outputs": [],
   "source": [
    "# We don't really need film_id and name columns:"
   ]
  },
  {
   "cell_type": "code",
   "execution_count": 9,
   "metadata": {},
   "outputs": [],
   "source": [
    "data_new = data_new.drop([\"film_id\", 'name'], axis=1)"
   ]
  },
  {
   "cell_type": "code",
   "execution_count": 10,
   "metadata": {},
   "outputs": [
    {
     "data": {
      "text/plain": [
       "fiction        769\n",
       "non-fiction    189\n",
       "Name: fiction or non-fiction, dtype: int64"
      ]
     },
     "execution_count": 10,
     "metadata": {},
     "output_type": "execute_result"
    }
   ],
   "source": [
    "# Huge class imbalance, as predicted\n",
    "\n",
    "data_new['fiction or non-fiction'].value_counts()"
   ]
  },
  {
   "cell_type": "markdown",
   "metadata": {},
   "source": [
    "# Normalization of numerical variables"
   ]
  },
  {
   "cell_type": "code",
   "execution_count": 11,
   "metadata": {},
   "outputs": [],
   "source": [
    "from sklearn.preprocessing import Normalizer\n",
    "# from sklearn.preprocessing import StandardScaler\n",
    "import numpy as np\n",
    "import matplotlib.pyplot as plt\n",
    "import seaborn as sns\n",
    "x = data_new.select_dtypes(include = np.number)\n",
    "\n",
    "column_names=list(x.columns)\n",
    "\n",
    "# Normalizing data\n",
    "transformer = Normalizer().fit(x)\n",
    "x_normalized = transformer.transform(x)\n",
    "data_numerical_transformed = pd.DataFrame(x_normalized)\n",
    "\n",
    "data_numerical_transformed.columns=column_names"
   ]
  },
  {
   "cell_type": "code",
   "execution_count": 12,
   "metadata": {},
   "outputs": [
    {
     "data": {
      "text/html": [
       "<div>\n",
       "<style scoped>\n",
       "    .dataframe tbody tr th:only-of-type {\n",
       "        vertical-align: middle;\n",
       "    }\n",
       "\n",
       "    .dataframe tbody tr th {\n",
       "        vertical-align: top;\n",
       "    }\n",
       "\n",
       "    .dataframe thead th {\n",
       "        text-align: right;\n",
       "    }\n",
       "</style>\n",
       "<table border=\"1\" class=\"dataframe\">\n",
       "  <thead>\n",
       "    <tr style=\"text-align: right;\">\n",
       "      <th></th>\n",
       "      <th>n_films_rented</th>\n",
       "      <th>rental_duration</th>\n",
       "      <th>rental_rate</th>\n",
       "      <th>length</th>\n",
       "    </tr>\n",
       "  </thead>\n",
       "  <tbody>\n",
       "    <tr>\n",
       "      <th>0</th>\n",
       "      <td>0.174038</td>\n",
       "      <td>0.052211</td>\n",
       "      <td>0.008615</td>\n",
       "      <td>0.983316</td>\n",
       "    </tr>\n",
       "    <tr>\n",
       "      <th>1</th>\n",
       "      <td>0.160516</td>\n",
       "      <td>0.022931</td>\n",
       "      <td>0.038142</td>\n",
       "      <td>0.986029</td>\n",
       "    </tr>\n",
       "    <tr>\n",
       "      <th>2</th>\n",
       "      <td>0.059383</td>\n",
       "      <td>0.029692</td>\n",
       "      <td>0.017756</td>\n",
       "      <td>0.997636</td>\n",
       "    </tr>\n",
       "    <tr>\n",
       "      <th>3</th>\n",
       "      <td>0.138013</td>\n",
       "      <td>0.046004</td>\n",
       "      <td>0.022926</td>\n",
       "      <td>0.989096</td>\n",
       "    </tr>\n",
       "    <tr>\n",
       "      <th>4</th>\n",
       "      <td>0.250727</td>\n",
       "      <td>0.062682</td>\n",
       "      <td>0.037484</td>\n",
       "      <td>0.965299</td>\n",
       "    </tr>\n",
       "  </tbody>\n",
       "</table>\n",
       "</div>"
      ],
      "text/plain": [
       "   n_films_rented  rental_duration  rental_rate    length\n",
       "0        0.174038         0.052211     0.008615  0.983316\n",
       "1        0.160516         0.022931     0.038142  0.986029\n",
       "2        0.059383         0.029692     0.017756  0.997636\n",
       "3        0.138013         0.046004     0.022926  0.989096\n",
       "4        0.250727         0.062682     0.037484  0.965299"
      ]
     },
     "execution_count": 12,
     "metadata": {},
     "output_type": "execute_result"
    }
   ],
   "source": [
    "data_numerical_transformed.head()"
   ]
  },
  {
   "cell_type": "markdown",
   "metadata": {},
   "source": [
    "# Dummifying the only categorical feature - rating"
   ]
  },
  {
   "cell_type": "code",
   "execution_count": 13,
   "metadata": {},
   "outputs": [],
   "source": [
    "cat = data_new.select_dtypes(include = np.object)\n",
    "\n",
    "cat = cat.drop(['fiction or non-fiction'], axis=1)\n",
    "categorical = pd.get_dummies(cat, columns=['rating'])"
   ]
  },
  {
   "cell_type": "markdown",
   "metadata": {},
   "source": [
    "# Train-test split"
   ]
  },
  {
   "cell_type": "code",
   "execution_count": 14,
   "metadata": {},
   "outputs": [],
   "source": [
    "y = data_new['fiction or non-fiction']\n",
    "X = np.concatenate((x, categorical), axis=1)\n",
    "\n",
    "from sklearn.model_selection import train_test_split\n",
    "X_train, X_test, y_train, y_test = train_test_split(X, y, test_size=0.4, random_state=100)"
   ]
  },
  {
   "cell_type": "code",
   "execution_count": 15,
   "metadata": {},
   "outputs": [],
   "source": [
    "import sklearn\n",
    "from sklearn.linear_model import LogisticRegression\n",
    "classification = LogisticRegression(random_state=0, solver='lbfgs', max_iter=5000).fit(X_train, y_train)"
   ]
  },
  {
   "cell_type": "markdown",
   "metadata": {},
   "source": [
    "# Validating the model"
   ]
  },
  {
   "cell_type": "code",
   "execution_count": 16,
   "metadata": {},
   "outputs": [
    {
     "name": "stdout",
     "output_type": "stream",
     "text": [
      "The accuracy of the model in the TEST set is:  0.85\n"
     ]
    }
   ],
   "source": [
    "print(\"The accuracy of the model in the TEST set is: \", round(classification.score(X_test, y_test),2))"
   ]
  },
  {
   "cell_type": "code",
   "execution_count": 17,
   "metadata": {},
   "outputs": [
    {
     "data": {
      "text/plain": [
       "0.8515625"
      ]
     },
     "execution_count": 17,
     "metadata": {},
     "output_type": "execute_result"
    }
   ],
   "source": [
    "predictions = classification.predict(X_test)\n",
    "classification.score(X_test, y_test)"
   ]
  },
  {
   "cell_type": "code",
   "execution_count": 18,
   "metadata": {},
   "outputs": [
    {
     "data": {
      "text/plain": [
       "fiction        327\n",
       "non-fiction     57\n",
       "Name: fiction or non-fiction, dtype: int64"
      ]
     },
     "execution_count": 18,
     "metadata": {},
     "output_type": "execute_result"
    }
   ],
   "source": [
    "y_test.value_counts()"
   ]
  },
  {
   "cell_type": "markdown",
   "metadata": {},
   "source": [
    "# Confusion matrix for the prediction"
   ]
  },
  {
   "cell_type": "code",
   "execution_count": 19,
   "metadata": {},
   "outputs": [
    {
     "data": {
      "text/plain": [
       "'0.23.2'"
      ]
     },
     "execution_count": 19,
     "metadata": {},
     "output_type": "execute_result"
    }
   ],
   "source": [
    "sklearn. __version__ "
   ]
  },
  {
   "cell_type": "code",
   "execution_count": 20,
   "metadata": {
    "scrolled": true
   },
   "outputs": [
    {
     "data": {
      "text/plain": [
       "array([[327,   0],\n",
       "       [ 57,   0]], dtype=int64)"
      ]
     },
     "execution_count": 20,
     "metadata": {},
     "output_type": "execute_result"
    }
   ],
   "source": [
    "from sklearn.metrics import confusion_matrix, plot_confusion_matrix\n",
    "confusion_matrix(y_test, classification.predict(X_test))"
   ]
  },
  {
   "cell_type": "code",
   "execution_count": 21,
   "metadata": {},
   "outputs": [
    {
     "data": {
      "text/plain": [
       "<sklearn.metrics._plot.confusion_matrix.ConfusionMatrixDisplay at 0x1d643c27130>"
      ]
     },
     "execution_count": 21,
     "metadata": {},
     "output_type": "execute_result"
    },
    {
     "data": {
      "image/png": "[encoded data removed]",
      "text/plain": [
       "<Figure size 432x288 with 2 Axes>"
      ]
     },
     "metadata": {
      "needs_background": "light"
     },
     "output_type": "display_data"
    }
   ],
   "source": [
    "plot_confusion_matrix(classification, X_test, y_test)"
   ]
  },
  {
   "cell_type": "code",
   "execution_count": null,
   "metadata": {},
   "outputs": [],
   "source": [
    "# As expected, because of the huge class imbalance, we can't make any predictions about non-fiction.\n",
    "# We tried to address this by playing around with downsampling"
   ]
  },
  {
   "cell_type": "markdown",
   "metadata": {},
   "source": [
    "# Here we tried to downsample \"fiction\""
   ]
  },
  {
   "cell_type": "code",
   "execution_count": 22,
   "metadata": {},
   "outputs": [],
   "source": [
    "query = '''select f.name, fr.film_id, sum(fr.number_of_times_rented) as n_films_rented, fr.rental_duration, fr.rental_rate, fr.length, fr.rating\n",
    "from films_category_name fr\n",
    "join category f\n",
    "on fr.category_id = f.category_id\n",
    "group by film_id;'''\n",
    "\n",
    "\n",
    "\n",
    "data_new2 = pd.read_sql_query(query, engine)\n"
   ]
  },
  {
   "cell_type": "code",
   "execution_count": 23,
   "metadata": {},
   "outputs": [],
   "source": [
    "data_new2['fiction or non-fiction'] = list(map(cleanOperation, data_new2['name']))"
   ]
  },
  {
   "cell_type": "code",
   "execution_count": 24,
   "metadata": {},
   "outputs": [],
   "source": [
    "data_new2 = data_new2.drop([\"film_id\", 'name'], axis=1)"
   ]
  },
  {
   "cell_type": "code",
   "execution_count": 25,
   "metadata": {},
   "outputs": [],
   "source": [
    "data_new2['fiction or non-fiction'] = [1 if b=='fiction' else 0 for b in data_new2['fiction or non-fiction']]"
   ]
  },
  {
   "cell_type": "code",
   "execution_count": 26,
   "metadata": {},
   "outputs": [],
   "source": [
    "from sklearn.utils import resample"
   ]
  },
  {
   "cell_type": "code",
   "execution_count": 27,
   "metadata": {},
   "outputs": [
    {
     "data": {
      "text/plain": [
       "1    189\n",
       "0    189\n",
       "Name: fiction or non-fiction, dtype: int64"
      ]
     },
     "execution_count": 27,
     "metadata": {},
     "output_type": "execute_result"
    }
   ],
   "source": [
    "data_new2_minority = data_new2[data_new2['fiction or non-fiction']==0]\n",
    "data_new2_majority = data_new2[data_new2['fiction or non-fiction']==1]\n",
    " \n",
    "# Downsample majority class\n",
    "df_majority_downsampled = resample(data_new2_majority, \n",
    "                                 replace=False,    # sample without replacement\n",
    "                                 n_samples=189,     # to match minority class\n",
    "                                 random_state=123) # reproducible results\n",
    " \n",
    "# Combine minority class with downsampled majority class\n",
    "df_downsampled = pd.concat([df_majority_downsampled, data_new2_minority])\n",
    " \n",
    "# Display new class counts\n",
    "df_downsampled['fiction or non-fiction'].value_counts()"
   ]
  },
  {
   "cell_type": "code",
   "execution_count": 28,
   "metadata": {},
   "outputs": [
    {
     "data": {
      "text/plain": [
       "(378, 6)"
      ]
     },
     "execution_count": 28,
     "metadata": {},
     "output_type": "execute_result"
    }
   ],
   "source": [
    "df_downsampled.shape"
   ]
  },
  {
   "cell_type": "code",
   "execution_count": 29,
   "metadata": {},
   "outputs": [
    {
     "data": {
      "text/html": [
       "<div>\n",
       "<style scoped>\n",
       "    .dataframe tbody tr th:only-of-type {\n",
       "        vertical-align: middle;\n",
       "    }\n",
       "\n",
       "    .dataframe tbody tr th {\n",
       "        vertical-align: top;\n",
       "    }\n",
       "\n",
       "    .dataframe thead th {\n",
       "        text-align: right;\n",
       "    }\n",
       "</style>\n",
       "<table border=\"1\" class=\"dataframe\">\n",
       "  <thead>\n",
       "    <tr style=\"text-align: right;\">\n",
       "      <th></th>\n",
       "      <th>n_films_rented</th>\n",
       "      <th>rental_duration</th>\n",
       "      <th>rental_rate</th>\n",
       "      <th>length</th>\n",
       "    </tr>\n",
       "  </thead>\n",
       "  <tbody>\n",
       "    <tr>\n",
       "      <th>0</th>\n",
       "      <td>0.161041</td>\n",
       "      <td>0.026840</td>\n",
       "      <td>0.020063</td>\n",
       "      <td>0.986379</td>\n",
       "    </tr>\n",
       "    <tr>\n",
       "      <th>1</th>\n",
       "      <td>0.102800</td>\n",
       "      <td>0.027413</td>\n",
       "      <td>0.034198</td>\n",
       "      <td>0.993736</td>\n",
       "    </tr>\n",
       "    <tr>\n",
       "      <th>2</th>\n",
       "      <td>0.182789</td>\n",
       "      <td>0.034273</td>\n",
       "      <td>0.011310</td>\n",
       "      <td>0.982490</td>\n",
       "    </tr>\n",
       "    <tr>\n",
       "      <th>3</th>\n",
       "      <td>0.169219</td>\n",
       "      <td>0.030218</td>\n",
       "      <td>0.005983</td>\n",
       "      <td>0.985097</td>\n",
       "    </tr>\n",
       "    <tr>\n",
       "      <th>4</th>\n",
       "      <td>0.135199</td>\n",
       "      <td>0.043018</td>\n",
       "      <td>0.030666</td>\n",
       "      <td>0.989409</td>\n",
       "    </tr>\n",
       "  </tbody>\n",
       "</table>\n",
       "</div>"
      ],
      "text/plain": [
       "   n_films_rented  rental_duration  rental_rate    length\n",
       "0        0.161041         0.026840     0.020063  0.986379\n",
       "1        0.102800         0.027413     0.034198  0.993736\n",
       "2        0.182789         0.034273     0.011310  0.982490\n",
       "3        0.169219         0.030218     0.005983  0.985097\n",
       "4        0.135199         0.043018     0.030666  0.989409"
      ]
     },
     "execution_count": 29,
     "metadata": {},
     "output_type": "execute_result"
    }
   ],
   "source": [
    "from sklearn.preprocessing import Normalizer\n",
    "# from sklearn.preprocessing import StandardScaler\n",
    "import numpy as np\n",
    "import matplotlib.pyplot as plt\n",
    "import seaborn as sns\n",
    "x = df_downsampled[[\"n_films_rented\", \"rental_duration\", \"rental_rate\", \"length\"]]\n",
    "\n",
    "column_names=list(x.columns)\n",
    "\n",
    "# Normalizing data\n",
    "transformer = Normalizer().fit(x)\n",
    "x_normalized = transformer.transform(x)\n",
    "data_numerical_transformed = pd.DataFrame(x_normalized)\n",
    "\n",
    "data_numerical_transformed.columns=column_names\n",
    "\n",
    "data_numerical_transformed.head()"
   ]
  },
  {
   "cell_type": "code",
   "execution_count": 31,
   "metadata": {},
   "outputs": [
    {
     "data": {
      "text/html": [
       "<div>\n",
       "<style scoped>\n",
       "    .dataframe tbody tr th:only-of-type {\n",
       "        vertical-align: middle;\n",
       "    }\n",
       "\n",
       "    .dataframe tbody tr th {\n",
       "        vertical-align: top;\n",
       "    }\n",
       "\n",
       "    .dataframe thead th {\n",
       "        text-align: right;\n",
       "    }\n",
       "</style>\n",
       "<table border=\"1\" class=\"dataframe\">\n",
       "  <thead>\n",
       "    <tr style=\"text-align: right;\">\n",
       "      <th></th>\n",
       "      <th>rating_G</th>\n",
       "      <th>rating_NC-17</th>\n",
       "      <th>rating_PG</th>\n",
       "      <th>rating_PG-13</th>\n",
       "      <th>rating_R</th>\n",
       "    </tr>\n",
       "  </thead>\n",
       "  <tbody>\n",
       "    <tr>\n",
       "      <th>617</th>\n",
       "      <td>0</td>\n",
       "      <td>0</td>\n",
       "      <td>0</td>\n",
       "      <td>1</td>\n",
       "      <td>0</td>\n",
       "    </tr>\n",
       "    <tr>\n",
       "      <th>392</th>\n",
       "      <td>0</td>\n",
       "      <td>0</td>\n",
       "      <td>0</td>\n",
       "      <td>1</td>\n",
       "      <td>0</td>\n",
       "    </tr>\n",
       "    <tr>\n",
       "      <th>36</th>\n",
       "      <td>1</td>\n",
       "      <td>0</td>\n",
       "      <td>0</td>\n",
       "      <td>0</td>\n",
       "      <td>0</td>\n",
       "    </tr>\n",
       "    <tr>\n",
       "      <th>200</th>\n",
       "      <td>0</td>\n",
       "      <td>0</td>\n",
       "      <td>0</td>\n",
       "      <td>0</td>\n",
       "      <td>1</td>\n",
       "    </tr>\n",
       "    <tr>\n",
       "      <th>548</th>\n",
       "      <td>0</td>\n",
       "      <td>0</td>\n",
       "      <td>0</td>\n",
       "      <td>0</td>\n",
       "      <td>1</td>\n",
       "    </tr>\n",
       "  </tbody>\n",
       "</table>\n",
       "</div>"
      ],
      "text/plain": [
       "     rating_G  rating_NC-17  rating_PG  rating_PG-13  rating_R\n",
       "617         0             0          0             1         0\n",
       "392         0             0          0             1         0\n",
       "36          1             0          0             0         0\n",
       "200         0             0          0             0         1\n",
       "548         0             0          0             0         1"
      ]
     },
     "execution_count": 31,
     "metadata": {},
     "output_type": "execute_result"
    }
   ],
   "source": [
    "# Dummifying categorical features\n",
    "\n",
    "cat = df_downsampled.select_dtypes(include = np.object)\n",
    "\n",
    "categorical = pd.get_dummies(cat, columns=['rating'])\n",
    "categorical.head()"
   ]
  },
  {
   "cell_type": "code",
   "execution_count": 32,
   "metadata": {},
   "outputs": [],
   "source": [
    "## Train-test split\n",
    "\n",
    "y = df_downsampled['fiction or non-fiction']\n",
    "X = np.concatenate((x, categorical), axis=1)\n",
    "\n",
    "from sklearn.model_selection import train_test_split\n",
    "X_train, X_test, y_train, y_test = train_test_split(X, y, test_size=0.4, random_state=100)\n",
    "\n",
    "import sklearn\n",
    "from sklearn.linear_model import LogisticRegression\n",
    "classification = LogisticRegression(max_iter=5000).fit(X_train, y_train) #multiclass = multinomial, because our cat. feature can have more than 2 values."
   ]
  },
  {
   "cell_type": "code",
   "execution_count": 33,
   "metadata": {},
   "outputs": [
    {
     "name": "stdout",
     "output_type": "stream",
     "text": [
      "The accuracy of the model in the TEST set is:  0.51\n"
     ]
    }
   ],
   "source": [
    "print(\"The accuracy of the model in the TEST set is: \", round(classification.score(X_test, y_test),2))"
   ]
  },
  {
   "cell_type": "code",
   "execution_count": 34,
   "metadata": {},
   "outputs": [
    {
     "data": {
      "text/plain": [
       "0.506578947368421"
      ]
     },
     "execution_count": 34,
     "metadata": {},
     "output_type": "execute_result"
    }
   ],
   "source": [
    "predictions = classification.predict(X_test)\n",
    "classification.score(X_test, y_test)"
   ]
  },
  {
   "cell_type": "code",
   "execution_count": 35,
   "metadata": {},
   "outputs": [
    {
     "data": {
      "text/plain": [
       "1    80\n",
       "0    72\n",
       "Name: fiction or non-fiction, dtype: int64"
      ]
     },
     "execution_count": 35,
     "metadata": {},
     "output_type": "execute_result"
    }
   ],
   "source": [
    "y_test.value_counts()"
   ]
  },
  {
   "cell_type": "code",
   "execution_count": 36,
   "metadata": {},
   "outputs": [
    {
     "data": {
      "text/plain": [
       "'0.23.2'"
      ]
     },
     "execution_count": 36,
     "metadata": {},
     "output_type": "execute_result"
    }
   ],
   "source": [
    "sklearn. __version__ "
   ]
  },
  {
   "cell_type": "code",
   "execution_count": 37,
   "metadata": {
    "scrolled": true
   },
   "outputs": [
    {
     "data": {
      "text/plain": [
       "array([[44, 28],\n",
       "       [47, 33]], dtype=int64)"
      ]
     },
     "execution_count": 37,
     "metadata": {},
     "output_type": "execute_result"
    }
   ],
   "source": [
    "from sklearn.metrics import confusion_matrix, plot_confusion_matrix\n",
    "confusion_matrix(y_test, classification.predict(X_test))"
   ]
  },
  {
   "cell_type": "code",
   "execution_count": 38,
   "metadata": {},
   "outputs": [
    {
     "data": {
      "text/plain": [
       "array([[44, 28],\n",
       "       [47, 33]], dtype=int64)"
      ]
     },
     "execution_count": 38,
     "metadata": {},
     "output_type": "execute_result"
    }
   ],
   "source": [
    "## Getting the confussion matrix\n",
    "\n",
    "sklearn. __version__ \n",
    "\n",
    "from sklearn.metrics import confusion_matrix, plot_confusion_matrix\n",
    "confusion_matrix(y_test, classification.predict(X_test))"
   ]
  },
  {
   "cell_type": "code",
   "execution_count": 39,
   "metadata": {
    "scrolled": true
   },
   "outputs": [
    {
     "data": {
      "text/plain": [
       "<sklearn.metrics._plot.confusion_matrix.ConfusionMatrixDisplay at 0x1d6431c8e80>"
      ]
     },
     "execution_count": 39,
     "metadata": {},
     "output_type": "execute_result"
    },
    {
     "data": {
      "image/png": "[encoded data removed]",
      "text/plain": [
       "<Figure size 432x288 with 2 Axes>"
      ]
     },
     "metadata": {
      "needs_background": "light"
     },
     "output_type": "display_data"
    }
   ],
   "source": [
    "plot_confusion_matrix(classification, X_test, y_test)"
   ]
  }
 ],
 "metadata": {
  "kernelspec": {
   "display_name": "Python 3",
   "language": "python",
   "name": "python3"
  },
  "language_info": {
   "codemirror_mode": {
    "name": "ipython",
    "version": 3
   },
   "file_extension": ".py",
   "mimetype": "text/x-python",
   "name": "python",
   "nbconvert_exporter": "python",
   "pygments_lexer": "ipython3",
   "version": "3.8.5"
  },
  "toc": {
   "base_numbering": 1,
   "nav_menu": {},
   "number_sections": true,
   "sideBar": true,
   "skip_h1_title": false,
   "title_cell": "Table of Contents",
   "title_sidebar": "Contents",
   "toc_cell": false,
   "toc_position": {},
   "toc_section_display": true,
   "toc_window_display": true
  },
  "varInspector": {
   "cols": {
    "lenName": 16,
    "lenType": 16,
    "lenVar": 40
   },
   "kernels_config": {
    "python": {
     "delete_cmd_postfix": "",
     "delete_cmd_prefix": "del ",
     "library": "var_list.py",
     "varRefreshCmd": "print(var_dic_list())"
    },
    "r": {
     "delete_cmd_postfix": ") ",
     "delete_cmd_prefix": "rm(",
     "library": "var_list.r",
     "varRefreshCmd": "cat(var_dic_list()) "
    }
   },
   "types_to_exclude": [
    "module",
    "function",
    "builtin_function_or_method",
    "instance",
    "_Feature"
   ],
   "window_display": false
  }
 },
 "nbformat": 4,
 "nbformat_minor": 4
}
